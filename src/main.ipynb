{
 "cells": [
  {
   "cell_type": "code",
   "execution_count": 16,
   "metadata": {},
   "outputs": [],
   "source": [
    "import warnings\n",
    "warnings.filterwarnings(\"ignore\", category=FutureWarning)\n",
    "\n",
    "# for data manipulation\n",
    "import pandas as pd, numpy as np, random\n",
    "\n",
    "#for graphs\n",
    "import matplotlib.pyplot as plt\n",
    "import seaborn as sns\n",
    "\n",
    "#models to run\n",
    "from sklearn.linear_model import LinearRegression\n",
    "from sklearn.tree import DecisionTreeRegressor\n",
    "from sklearn import preprocessing\n",
    "from sklearn import neighbors\n",
    "from sklearn import tree\n",
    "\n",
    "#train_test_split\n",
    "from sklearn.model_selection import train_test_split,StratifiedShuffleSplit, GridSearchCV\n",
    "\n",
    "#for cycle\n",
    "from itertools import cycle\n",
    "\n",
    "#metrics\n",
    "from sklearn import metrics\n",
    "from sklearn.metrics import confusion_matrix, classification_report, precision_score, recall_score, f1_score, r2_score, accuracy_score, roc_auc_score\n",
    "from sklearn.model_selection import cross_val_score, KFold\n",
    "from sklearn.ensemble import RandomForestRegressor\n",
    "from sklearn.neighbors import KNeighborsRegressor\n",
    "from sklearn.model_selection import train_test_split, GridSearchCV\n",
    "\n",
    "RANDOM_STATE = 42\n",
    "random.seed(RANDOM_STATE)\n",
    "\n",
    "import math\n",
    "from sklearn.preprocessing import StandardScaler\n",
    "from sklearn.tree import plot_tree\n",
    "from sklearn.metrics import mean_absolute_error as MAE\n",
    "from sklearn.metrics import mean_squared_error as MSE\n",
    "\n",
    "from models.train_model_regression import LR_reg, KNN_reg, RandomForest_reg, SVM_reg\n",
    "from models.train_model_classification import logit_class, KNN_class, RandomForest_class,SVM_class\n",
    "from visualization.visualize import viz"
   ]
  },
  {
   "cell_type": "code",
   "execution_count": 17,
   "metadata": {},
   "outputs": [],
   "source": [
    "auction = pd.read_csv('../data/processed/cleaned_auction_reg.csv')\n",
    "X = auction.drop(['price'], axis = 1)\n",
    "y = auction['price']"
   ]
  },
  {
   "cell_type": "code",
   "execution_count": 18,
   "metadata": {},
   "outputs": [
    {
     "name": "stdout",
     "output_type": "stream",
     "text": [
      "R^2 Scores: \n",
      "\n",
      "Linear Regression: 0.8245225891994606\n",
      "KNN Regressor: 0.88721080187006\n",
      "RF Regressor: 0.8977720437537272\n",
      "Linear SVM Regressor: 0.7925729278164269\n",
      "\n",
      "Mean Absolute Error: \n",
      "\n",
      "Linear Regression: 0.24167873071048324\n",
      "KNN Regressor: 0.14437825409047864\n",
      "RF Regressor: 0.12223984631118713\n",
      "Linear SVM Regressor: 0.20285637913939605\n",
      "\n",
      "Mean Squared Error: \n",
      "\n",
      "Linear Regression: 0.16003825555191115\n",
      "KNN Regressor: 0.10286558498593378\n",
      "RF Regressor: 0.09323356044321297\n",
      "Linear SVM Regressor: 0.1891768668973168\n",
      "\n"
     ]
    }
   ],
   "source": [
    "\n",
    "fit_lr = LR_reg(X,y, test_size=0.2, random_state=42)\n",
    "fit_lr.fit(tune_fit = \"no\")\n",
    "pred_lr = fit_lr.predict()\n",
    "\n",
    "fit_knn = KNN_reg(X, y, n_neighbors=5, test_size=0.2, random_state=42)\n",
    "fit_knn.fit(tune_fit = \"no\")\n",
    "pred_knn = fit_knn.predict()\n",
    "\n",
    "fit_rf = RandomForest_reg(X, y, random_state=42)\n",
    "fit_rf.fit(tune_fit = \"no\")\n",
    "pred_rf = fit_rf.predict()\n",
    "\n",
    "fit_svm = SVM_reg(X, y, random_state=42)\n",
    "fit_svm.fit(tune_fit = \"no\")\n",
    "pred_svm = fit_svm.predict()\n",
    "\n",
    "for i in range(3):\n",
    "    if(i == 0):\n",
    "        print(\"R^2 Scores: \")\n",
    "        print(\"\")\n",
    "    if(i == 1):\n",
    "        print(\"Mean Absolute Error: \")\n",
    "        print(\"\")\n",
    "    if(i == 2):\n",
    "        print(\"Mean Squared Error: \")\n",
    "        print(\"\")\n",
    "    print(\"Linear Regression:\", fit_lr.score()[i])\n",
    "    print(\"KNN Regressor:\", fit_knn.score()[i])\n",
    "    print(\"RF Regressor:\", fit_rf.score()[i])\n",
    "    print(\"Linear SVM Regressor:\", fit_svm.score()[i])\n",
    "    print(\"\")"
   ]
  },
  {
   "cell_type": "code",
   "execution_count": 19,
   "metadata": {},
   "outputs": [
    {
     "name": "stdout",
     "output_type": "stream",
     "text": [
      "R^2 Scores: \n",
      "\n",
      "Linear Regression: 0.8245225891994606\n",
      "KNN Regressor: 0.8652828207005111\n",
      "RF Regressor: 0.8970867242201719\n",
      "Linear SVM Regressor: 0.7925729278164269\n",
      "\n",
      "Mean Absolute Error: \n",
      "\n",
      "Linear Regression: 0.24167873071048324\n",
      "KNN Regressor: 0.17033963347805844\n",
      "RF Regressor: 0.12093885554718896\n",
      "Linear SVM Regressor: 0.20285637913939605\n",
      "\n",
      "Mean Squared Error: \n",
      "\n",
      "Linear Regression: 0.16003825555191115\n",
      "KNN Regressor: 0.1228642608162872\n",
      "RF Regressor: 0.0938585830153235\n",
      "Linear SVM Regressor: 0.1891768668973168\n",
      "\n"
     ]
    }
   ],
   "source": [
    "#for tuned models\n",
    "\n",
    "fit_lr = LR_reg(X,y, test_size=0.2, random_state=42)\n",
    "fit_lr.fit(tune_fit = \"no\")\n",
    "pred_lr = fit_lr.predict()\n",
    "\n",
    "fit_knn = KNN_reg(X, y, n_neighbors=5, test_size=0.2, random_state=42)\n",
    "fit_knn.fit(tune_fit = \"yes\")\n",
    "pred_knn = fit_knn.predict()\n",
    "\n",
    "#tuning takes too long on these.\n",
    "\n",
    "fit_rf = RandomForest_reg(X, y, random_state=42)\n",
    "fit_rf.fit(tune_fit = \"yes\")\n",
    "pred_rf = fit_rf.predict()\n",
    "\n",
    "fit_svm = SVM_reg(X, y, random_state=42)\n",
    "fit_svm.fit(tune_fit = \"yes\")\n",
    "pred_svm = fit_svm.predict()\n",
    "\n",
    "for i in range(3):\n",
    "    if(i == 0):\n",
    "        print(\"R^2 Scores: \")\n",
    "        print(\"\")\n",
    "    if(i == 1):\n",
    "        print(\"Mean Absolute Error: \")\n",
    "        print(\"\")\n",
    "    if(i == 2):\n",
    "        print(\"Mean Squared Error: \")\n",
    "        print(\"\")\n",
    "    print(\"Linear Regression:\", fit_lr.score()[i])\n",
    "    print(\"KNN Regressor:\", fit_knn.score()[i])\n",
    "    print(\"RF Regressor:\", fit_rf.score()[i])\n",
    "    print(\"Linear SVM Regressor:\", fit_svm.score()[i])\n",
    "    print(\"\")"
   ]
  },
  {
   "cell_type": "code",
   "execution_count": 20,
   "metadata": {},
   "outputs": [
    {
     "name": "stdout",
     "output_type": "stream",
     "text": [
      "c:\\Users\\Stefan\\Downloads\\final-project-190563930\\src\n",
      "Accuracy: \n",
      "\n",
      "Logistic Regression: 0.9221871713985279\n",
      "KNN Classifier: 0.9348054679284963\n",
      "RF Classifier: 0.9968454258675079\n",
      "SVM Classifier: 0.9316508937960042\n",
      "\n",
      "Classification report: \n",
      "\n",
      "Logistic Regression:                     precision    recall  f1-score   support\n",
      "\n",
      "Cartier wristwatch       0.95      0.86      0.90       401\n",
      " Xbox game console       0.91      0.97      0.93       550\n",
      "\n",
      "          accuracy                           0.92       951\n",
      "         macro avg       0.93      0.91      0.92       951\n",
      "      weighted avg       0.92      0.92      0.92       951\n",
      "\n",
      "KNN Classifier:                     precision    recall  f1-score   support\n",
      "\n",
      "Cartier wristwatch       0.95      0.89      0.92       401\n",
      " Xbox game console       0.92      0.97      0.94       550\n",
      "\n",
      "          accuracy                           0.93       951\n",
      "         macro avg       0.94      0.93      0.93       951\n",
      "      weighted avg       0.94      0.93      0.93       951\n",
      "\n",
      "RF Classifier:                     precision    recall  f1-score   support\n",
      "\n",
      "Cartier wristwatch       1.00      1.00      1.00       401\n",
      " Xbox game console       1.00      1.00      1.00       550\n",
      "\n",
      "          accuracy                           1.00       951\n",
      "         macro avg       1.00      1.00      1.00       951\n",
      "      weighted avg       1.00      1.00      1.00       951\n",
      "\n",
      "SVM Classifier:                     precision    recall  f1-score   support\n",
      "\n",
      "Cartier wristwatch       0.95      0.89      0.92       401\n",
      " Xbox game console       0.92      0.97      0.94       550\n",
      "\n",
      "          accuracy                           0.93       951\n",
      "         macro avg       0.93      0.93      0.93       951\n",
      "      weighted avg       0.93      0.93      0.93       951\n",
      "\n",
      "\n"
     ]
    }
   ],
   "source": [
    "#==================================================#\n",
    "#===================Test Classification============#\n",
    "\n",
    "import os\n",
    "cwd = os.getcwd()\n",
    "print(cwd)\n",
    "auction = pd.read_csv('../data/processed/cleaned_auction_class.csv')\n",
    "X = auction.drop(['item'], axis = 1)\n",
    "y = auction['item']\n",
    "\n",
    "\n",
    "fit_logit = logit_class(X,y, test_size=0.2, random_state=42)\n",
    "fit_logit.fit(tune_fit = \"no\")\n",
    "pred_logit = fit_logit.predict()\n",
    "\n",
    "fit_knn_class = KNN_class(X, y, n_neighbors=5, test_size=0.2, random_state=42)\n",
    "fit_knn_class.fit(tune_fit = \"no\")\n",
    "pred_knn_class = fit_knn_class.predict()\n",
    "\n",
    "fit_rf_class = RandomForest_class(X, y, random_state=42)\n",
    "fit_rf_class.fit(tune_fit = \"no\")\n",
    "pred_rf_class = fit_rf_class.predict()\n",
    "\n",
    "fit_svm_class = SVM_class(X, y, random_state=42)\n",
    "fit_svm_class.fit(tune_fit = \"no\")\n",
    "pred_svm_class= fit_svm_class.predict()\n",
    "\n",
    "for i in range(2):\n",
    "    if(i == 0):\n",
    "        print(\"Accuracy: \")\n",
    "        print(\"\")\n",
    "    if(i == 1):\n",
    "        print(\"Classification report: \")\n",
    "        print(\"\")\n",
    "    print(\"Logistic Regression:\", fit_logit.score()[i])\n",
    "    print(\"KNN Classifier:\", fit_knn_class.score()[i])\n",
    "    print(\"RF Classifier:\", fit_rf_class.score()[i])\n",
    "    print(\"SVM Classifier:\", fit_svm_class.score()[i])\n",
    "    print(\"\")"
   ]
  },
  {
   "cell_type": "code",
   "execution_count": 21,
   "metadata": {},
   "outputs": [
    {
     "name": "stdout",
     "output_type": "stream",
     "text": [
      "c:\\Users\\Stefan\\Downloads\\final-project-190563930\\src\n",
      "Accuracy: \n",
      "\n",
      "Logistic Regression: 0.9232386961093586\n",
      "KNN Classifier: 0.961093585699264\n",
      "RF Classifier: 0.9968454258675079\n",
      "SVM Classifier: 0.9305993690851735\n",
      "\n",
      "Classification report: \n",
      "\n",
      "Logistic Regression:                     precision    recall  f1-score   support\n",
      "\n",
      "Cartier wristwatch       0.95      0.87      0.90       401\n",
      " Xbox game console       0.91      0.97      0.94       550\n",
      "\n",
      "          accuracy                           0.92       951\n",
      "         macro avg       0.93      0.92      0.92       951\n",
      "      weighted avg       0.92      0.92      0.92       951\n",
      "\n",
      "KNN Classifier:                     precision    recall  f1-score   support\n",
      "\n",
      "Cartier wristwatch       0.95      0.96      0.95       401\n",
      " Xbox game console       0.97      0.96      0.97       550\n",
      "\n",
      "          accuracy                           0.96       951\n",
      "         macro avg       0.96      0.96      0.96       951\n",
      "      weighted avg       0.96      0.96      0.96       951\n",
      "\n",
      "RF Classifier:                     precision    recall  f1-score   support\n",
      "\n",
      "Cartier wristwatch       1.00      1.00      1.00       401\n",
      " Xbox game console       1.00      1.00      1.00       550\n",
      "\n",
      "          accuracy                           1.00       951\n",
      "         macro avg       1.00      1.00      1.00       951\n",
      "      weighted avg       1.00      1.00      1.00       951\n",
      "\n",
      "SVM Classifier:                     precision    recall  f1-score   support\n",
      "\n",
      "Cartier wristwatch       0.95      0.88      0.91       401\n",
      " Xbox game console       0.92      0.97      0.94       550\n",
      "\n",
      "          accuracy                           0.93       951\n",
      "         macro avg       0.93      0.92      0.93       951\n",
      "      weighted avg       0.93      0.93      0.93       951\n",
      "\n",
      "\n"
     ]
    }
   ],
   "source": [
    "#==================================================#\n",
    "#===================Test Classification============#\n",
    "\n",
    "import os\n",
    "cwd = os.getcwd()\n",
    "print(cwd)\n",
    "auction = pd.read_csv('../data/processed/cleaned_auction_class.csv')\n",
    "X = auction.drop(['item'], axis = 1)\n",
    "y = auction['item']\n",
    "\n",
    "\n",
    "fit_logit = logit_class(X,y, test_size=0.2, random_state=42)\n",
    "fit_logit.fit(tune_fit = \"yes\")\n",
    "pred_logit = fit_logit.predict()\n",
    "\n",
    "fit_knn_class = KNN_class(X, y, n_neighbors=5, test_size=0.2, random_state=42)\n",
    "fit_knn_class.fit(tune_fit = \"yes\")\n",
    "pred_knn_class = fit_knn_class.predict()\n",
    "\n",
    "fit_rf_class = RandomForest_class(X, y, random_state=42)\n",
    "fit_rf_class.fit(tune_fit = \"yes\")\n",
    "pred_rf_class = fit_rf_class.predict()\n",
    "\n",
    "fit_svm_class = SVM_class(X, y, random_state=42)\n",
    "fit_svm_class.fit(tune_fit = \"yes\")\n",
    "pred_svm_class= fit_svm_class.predict()\n",
    "\n",
    "for i in range(2):\n",
    "    if(i == 0):\n",
    "        print(\"Accuracy: \")\n",
    "        print(\"\")\n",
    "    if(i == 1):\n",
    "        print(\"Classification report: \")\n",
    "        print(\"\")\n",
    "    print(\"Logistic Regression:\", fit_logit.score()[i])\n",
    "    print(\"KNN Classifier:\", fit_knn_class.score()[i])\n",
    "    print(\"RF Classifier:\", fit_rf_class.score()[i])\n",
    "    print(\"SVM Classifier:\", fit_svm_class.score()[i])\n",
    "    print(\"\")"
   ]
  },
  {
   "attachments": {},
   "cell_type": "markdown",
   "metadata": {},
   "source": [
    "### Test Visualization"
   ]
  },
  {
   "cell_type": "code",
   "execution_count": 22,
   "metadata": {},
   "outputs": [
    {
     "name": "stdout",
     "output_type": "stream",
     "text": [
      "LR: \n",
      "\n"
     ]
    },
    {
     "data": {
      "image/png": "[encoded data removed]",
      "text/plain": [
       "<Figure size 432x288 with 1 Axes>"
      ]
     },
     "metadata": {
      "needs_background": "light"
     },
     "output_type": "display_data"
    },
    {
     "name": "stdout",
     "output_type": "stream",
     "text": [
      "KNN: \n",
      "\n"
     ]
    },
    {
     "data": {
      "image/png": "[encoded data removed]",
      "text/plain": [
       "<Figure size 432x288 with 1 Axes>"
      ]
     },
     "metadata": {
      "needs_background": "light"
     },
     "output_type": "display_data"
    },
    {
     "name": "stdout",
     "output_type": "stream",
     "text": [
      "RF: \n",
      "\n"
     ]
    },
    {
     "data": {
      "image/png": "[encoded data removed]",
      "text/plain": [
       "<Figure size 432x288 with 1 Axes>"
      ]
     },
     "metadata": {
      "needs_background": "light"
     },
     "output_type": "display_data"
    },
    {
     "name": "stdout",
     "output_type": "stream",
     "text": [
      "SVM:\n",
      "\n"
     ]
    },
    {
     "data": {
      "image/png": "[encoded data removed]",
      "text/plain": [
       "<Figure size 432x288 with 1 Axes>"
      ]
     },
     "metadata": {
      "needs_background": "light"
     },
     "output_type": "display_data"
    },
    {
     "name": "stdout",
     "output_type": "stream",
     "text": [
      "LR: \n",
      "\n"
     ]
    },
    {
     "data": {
      "image/png": "[encoded data removed]",
      "text/plain": [
       "<Figure size 360x288 with 2 Axes>"
      ]
     },
     "metadata": {
      "needs_background": "light"
     },
     "output_type": "display_data"
    },
    {
     "name": "stdout",
     "output_type": "stream",
     "text": [
      "KNN: \n",
      "\n"
     ]
    },
    {
     "data": {
      "image/png": "[encoded data removed]",
      "text/plain": [
       "<Figure size 360x288 with 2 Axes>"
      ]
     },
     "metadata": {
      "needs_background": "light"
     },
     "output_type": "display_data"
    },
    {
     "name": "stdout",
     "output_type": "stream",
     "text": [
      "RF: \n",
      "\n"
     ]
    },
    {
     "data": {
      "image/png": "[encoded data removed]",
      "text/plain": [
       "<Figure size 360x288 with 2 Axes>"
      ]
     },
     "metadata": {
      "needs_background": "light"
     },
     "output_type": "display_data"
    }
   ],
   "source": [
    "'''\n",
    "the best model selected for regression is:\n",
    "\n",
    "the tuned RandomForestRegressor although it has a very small improvement from the untuned version\n",
    "\n",
    "\n",
    "the best model selected for the classification problemn is:\n",
    "\n",
    "the tuned RandomForestRegressor again althought it had little to no change compared to the untuned fit originally in terms of accuracy and classification report performance\n",
    "\n",
    "'''\n",
    "\n",
    "reg_models = [fit_lr, fit_knn, fit_rf, fit_svm]\n",
    "reg_pred = [pred_lr, pred_knn, pred_rf, pred_svm]\n",
    "\n",
    "for i in range(4):\n",
    "    if(i == 0):\n",
    "        print(\"LR: \")\n",
    "        print(\"\")\n",
    "    if(i == 1):\n",
    "        print(\"KNN: \")\n",
    "        print(\"\")\n",
    "    if(i == 2):\n",
    "        print(\"RF: \")\n",
    "        print(\"\")\n",
    "    if(i == 3):\n",
    "        print(\"SVM:\")\n",
    "        print(\"\")\n",
    "    viz_reg_model = viz(reg_pred[i], reg_models[i].y_test)\n",
    "    viz_reg_model.viz_reg()\n",
    "\n",
    "class_models = [fit_logit, fit_knn_class, fit_rf_class, fit_svm_class]\n",
    "class_pred = [pred_logit, pred_knn_class, pred_rf_class, pred_svm_class]\n",
    "for i in range(4):\n",
    "    if(i == 0):\n",
    "        print(\"LR: \")\n",
    "        print(\"\")\n",
    "    if(i == 1):\n",
    "        print(\"KNN: \")\n",
    "        print(\"\")\n",
    "    if(i == 2):\n",
    "        print(\"RF: \")\n",
    "        print(\"\")\n",
    "    if(i == 3):\n",
    "        print(\"SVM:\")\n",
    "        print(\"\")\n",
    "    viz_class_model = viz(class_pred[i], class_models[i].y_test)\n",
    "    viz_class_model.viz_class()\n",
    "\n"
   ]
  }
 ],
 "metadata": {
  "kernelspec": {
   "display_name": "Python 3",
   "language": "python",
   "name": "python3"
  },
  "language_info": {
   "codemirror_mode": {
    "name": "ipython",
    "version": 3
   },
   "file_extension": ".py",
   "mimetype": "text/x-python",
   "name": "python",
   "nbconvert_exporter": "python",
   "pygments_lexer": "ipython3",
   "version": "3.10.4"
  },
  "orig_nbformat": 4
 },
 "nbformat": 4,
 "nbformat_minor": 2
}
